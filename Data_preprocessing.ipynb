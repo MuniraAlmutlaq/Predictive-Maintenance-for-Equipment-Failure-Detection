{
  "nbformat": 4,
  "nbformat_minor": 0,
  "metadata": {
    "colab": {
      "provenance": []
    },
    "kernelspec": {
      "name": "python3",
      "display_name": "Python 3"
    },
    "language_info": {
      "name": "python"
    }
  },
  "cells": [
    {
      "cell_type": "markdown",
      "source": [
        "##**Step 1: Load and Inspect the Dataset**"
      ],
      "metadata": {
        "id": "4bK1k_aKpU6o"
      }
    },
    {
      "cell_type": "code",
      "source": [
        "import pandas as pd\n",
        "\n",
        "# Load the dataset\n",
        "df = pd.read_csv(\"predictive_maintenance_dataset.csv\")\n",
        "\n",
        "# Display the first few rows\n",
        "df.head()"
      ],
      "metadata": {
        "colab": {
          "base_uri": "https://localhost:8080/",
          "height": 206
        },
        "id": "ANa6nQDvokDT",
        "outputId": "930a7f01-17ba-47b7-f36a-30e06c95f702"
      },
      "execution_count": 1,
      "outputs": [
        {
          "output_type": "execute_result",
          "data": {
            "text/plain": [
              "       date    device  failure    metric1  metric2  metric3  metric4  metric5  \\\n",
              "0  1/1/2015  S1F01085        0  215630672       55        0       52        6   \n",
              "1  1/1/2015  S1F0166B        0   61370680        0        3        0        6   \n",
              "2  1/1/2015  S1F01E6Y        0  173295968        0        0        0       12   \n",
              "3  1/1/2015  S1F01JE0        0   79694024        0        0        0        6   \n",
              "4  1/1/2015  S1F01R2B        0  135970480        0        0        0       15   \n",
              "\n",
              "   metric6  metric7  metric8  metric9  \n",
              "0   407438        0        0        7  \n",
              "1   403174        0        0        0  \n",
              "2   237394        0        0        0  \n",
              "3   410186        0        0        0  \n",
              "4   313173        0        0        3  "
            ],
            "text/html": [
              "\n",
              "  <div id=\"df-697b67e8-8de2-4041-a1f5-72dee2515f27\" class=\"colab-df-container\">\n",
              "    <div>\n",
              "<style scoped>\n",
              "    .dataframe tbody tr th:only-of-type {\n",
              "        vertical-align: middle;\n",
              "    }\n",
              "\n",
              "    .dataframe tbody tr th {\n",
              "        vertical-align: top;\n",
              "    }\n",
              "\n",
              "    .dataframe thead th {\n",
              "        text-align: right;\n",
              "    }\n",
              "</style>\n",
              "<table border=\"1\" class=\"dataframe\">\n",
              "  <thead>\n",
              "    <tr style=\"text-align: right;\">\n",
              "      <th></th>\n",
              "      <th>date</th>\n",
              "      <th>device</th>\n",
              "      <th>failure</th>\n",
              "      <th>metric1</th>\n",
              "      <th>metric2</th>\n",
              "      <th>metric3</th>\n",
              "      <th>metric4</th>\n",
              "      <th>metric5</th>\n",
              "      <th>metric6</th>\n",
              "      <th>metric7</th>\n",
              "      <th>metric8</th>\n",
              "      <th>metric9</th>\n",
              "    </tr>\n",
              "  </thead>\n",
              "  <tbody>\n",
              "    <tr>\n",
              "      <th>0</th>\n",
              "      <td>1/1/2015</td>\n",
              "      <td>S1F01085</td>\n",
              "      <td>0</td>\n",
              "      <td>215630672</td>\n",
              "      <td>55</td>\n",
              "      <td>0</td>\n",
              "      <td>52</td>\n",
              "      <td>6</td>\n",
              "      <td>407438</td>\n",
              "      <td>0</td>\n",
              "      <td>0</td>\n",
              "      <td>7</td>\n",
              "    </tr>\n",
              "    <tr>\n",
              "      <th>1</th>\n",
              "      <td>1/1/2015</td>\n",
              "      <td>S1F0166B</td>\n",
              "      <td>0</td>\n",
              "      <td>61370680</td>\n",
              "      <td>0</td>\n",
              "      <td>3</td>\n",
              "      <td>0</td>\n",
              "      <td>6</td>\n",
              "      <td>403174</td>\n",
              "      <td>0</td>\n",
              "      <td>0</td>\n",
              "      <td>0</td>\n",
              "    </tr>\n",
              "    <tr>\n",
              "      <th>2</th>\n",
              "      <td>1/1/2015</td>\n",
              "      <td>S1F01E6Y</td>\n",
              "      <td>0</td>\n",
              "      <td>173295968</td>\n",
              "      <td>0</td>\n",
              "      <td>0</td>\n",
              "      <td>0</td>\n",
              "      <td>12</td>\n",
              "      <td>237394</td>\n",
              "      <td>0</td>\n",
              "      <td>0</td>\n",
              "      <td>0</td>\n",
              "    </tr>\n",
              "    <tr>\n",
              "      <th>3</th>\n",
              "      <td>1/1/2015</td>\n",
              "      <td>S1F01JE0</td>\n",
              "      <td>0</td>\n",
              "      <td>79694024</td>\n",
              "      <td>0</td>\n",
              "      <td>0</td>\n",
              "      <td>0</td>\n",
              "      <td>6</td>\n",
              "      <td>410186</td>\n",
              "      <td>0</td>\n",
              "      <td>0</td>\n",
              "      <td>0</td>\n",
              "    </tr>\n",
              "    <tr>\n",
              "      <th>4</th>\n",
              "      <td>1/1/2015</td>\n",
              "      <td>S1F01R2B</td>\n",
              "      <td>0</td>\n",
              "      <td>135970480</td>\n",
              "      <td>0</td>\n",
              "      <td>0</td>\n",
              "      <td>0</td>\n",
              "      <td>15</td>\n",
              "      <td>313173</td>\n",
              "      <td>0</td>\n",
              "      <td>0</td>\n",
              "      <td>3</td>\n",
              "    </tr>\n",
              "  </tbody>\n",
              "</table>\n",
              "</div>\n",
              "    <div class=\"colab-df-buttons\">\n",
              "\n",
              "  <div class=\"colab-df-container\">\n",
              "    <button class=\"colab-df-convert\" onclick=\"convertToInteractive('df-697b67e8-8de2-4041-a1f5-72dee2515f27')\"\n",
              "            title=\"Convert this dataframe to an interactive table.\"\n",
              "            style=\"display:none;\">\n",
              "\n",
              "  <svg xmlns=\"http://www.w3.org/2000/svg\" height=\"24px\" viewBox=\"0 -960 960 960\">\n",
              "    <path d=\"M120-120v-720h720v720H120Zm60-500h600v-160H180v160Zm220 220h160v-160H400v160Zm0 220h160v-160H400v160ZM180-400h160v-160H180v160Zm440 0h160v-160H620v160ZM180-180h160v-160H180v160Zm440 0h160v-160H620v160Z\"/>\n",
              "  </svg>\n",
              "    </button>\n",
              "\n",
              "  <style>\n",
              "    .colab-df-container {\n",
              "      display:flex;\n",
              "      gap: 12px;\n",
              "    }\n",
              "\n",
              "    .colab-df-convert {\n",
              "      background-color: #E8F0FE;\n",
              "      border: none;\n",
              "      border-radius: 50%;\n",
              "      cursor: pointer;\n",
              "      display: none;\n",
              "      fill: #1967D2;\n",
              "      height: 32px;\n",
              "      padding: 0 0 0 0;\n",
              "      width: 32px;\n",
              "    }\n",
              "\n",
              "    .colab-df-convert:hover {\n",
              "      background-color: #E2EBFA;\n",
              "      box-shadow: 0px 1px 2px rgba(60, 64, 67, 0.3), 0px 1px 3px 1px rgba(60, 64, 67, 0.15);\n",
              "      fill: #174EA6;\n",
              "    }\n",
              "\n",
              "    .colab-df-buttons div {\n",
              "      margin-bottom: 4px;\n",
              "    }\n",
              "\n",
              "    [theme=dark] .colab-df-convert {\n",
              "      background-color: #3B4455;\n",
              "      fill: #D2E3FC;\n",
              "    }\n",
              "\n",
              "    [theme=dark] .colab-df-convert:hover {\n",
              "      background-color: #434B5C;\n",
              "      box-shadow: 0px 1px 3px 1px rgba(0, 0, 0, 0.15);\n",
              "      filter: drop-shadow(0px 1px 2px rgba(0, 0, 0, 0.3));\n",
              "      fill: #FFFFFF;\n",
              "    }\n",
              "  </style>\n",
              "\n",
              "    <script>\n",
              "      const buttonEl =\n",
              "        document.querySelector('#df-697b67e8-8de2-4041-a1f5-72dee2515f27 button.colab-df-convert');\n",
              "      buttonEl.style.display =\n",
              "        google.colab.kernel.accessAllowed ? 'block' : 'none';\n",
              "\n",
              "      async function convertToInteractive(key) {\n",
              "        const element = document.querySelector('#df-697b67e8-8de2-4041-a1f5-72dee2515f27');\n",
              "        const dataTable =\n",
              "          await google.colab.kernel.invokeFunction('convertToInteractive',\n",
              "                                                    [key], {});\n",
              "        if (!dataTable) return;\n",
              "\n",
              "        const docLinkHtml = 'Like what you see? Visit the ' +\n",
              "          '<a target=\"_blank\" href=https://colab.research.google.com/notebooks/data_table.ipynb>data table notebook</a>'\n",
              "          + ' to learn more about interactive tables.';\n",
              "        element.innerHTML = '';\n",
              "        dataTable['output_type'] = 'display_data';\n",
              "        await google.colab.output.renderOutput(dataTable, element);\n",
              "        const docLink = document.createElement('div');\n",
              "        docLink.innerHTML = docLinkHtml;\n",
              "        element.appendChild(docLink);\n",
              "      }\n",
              "    </script>\n",
              "  </div>\n",
              "\n",
              "\n",
              "<div id=\"df-4cb93f39-544e-4062-a826-c7e1f6c224df\">\n",
              "  <button class=\"colab-df-quickchart\" onclick=\"quickchart('df-4cb93f39-544e-4062-a826-c7e1f6c224df')\"\n",
              "            title=\"Suggest charts\"\n",
              "            style=\"display:none;\">\n",
              "\n",
              "<svg xmlns=\"http://www.w3.org/2000/svg\" height=\"24px\"viewBox=\"0 0 24 24\"\n",
              "     width=\"24px\">\n",
              "    <g>\n",
              "        <path d=\"M19 3H5c-1.1 0-2 .9-2 2v14c0 1.1.9 2 2 2h14c1.1 0 2-.9 2-2V5c0-1.1-.9-2-2-2zM9 17H7v-7h2v7zm4 0h-2V7h2v10zm4 0h-2v-4h2v4z\"/>\n",
              "    </g>\n",
              "</svg>\n",
              "  </button>\n",
              "\n",
              "<style>\n",
              "  .colab-df-quickchart {\n",
              "      --bg-color: #E8F0FE;\n",
              "      --fill-color: #1967D2;\n",
              "      --hover-bg-color: #E2EBFA;\n",
              "      --hover-fill-color: #174EA6;\n",
              "      --disabled-fill-color: #AAA;\n",
              "      --disabled-bg-color: #DDD;\n",
              "  }\n",
              "\n",
              "  [theme=dark] .colab-df-quickchart {\n",
              "      --bg-color: #3B4455;\n",
              "      --fill-color: #D2E3FC;\n",
              "      --hover-bg-color: #434B5C;\n",
              "      --hover-fill-color: #FFFFFF;\n",
              "      --disabled-bg-color: #3B4455;\n",
              "      --disabled-fill-color: #666;\n",
              "  }\n",
              "\n",
              "  .colab-df-quickchart {\n",
              "    background-color: var(--bg-color);\n",
              "    border: none;\n",
              "    border-radius: 50%;\n",
              "    cursor: pointer;\n",
              "    display: none;\n",
              "    fill: var(--fill-color);\n",
              "    height: 32px;\n",
              "    padding: 0;\n",
              "    width: 32px;\n",
              "  }\n",
              "\n",
              "  .colab-df-quickchart:hover {\n",
              "    background-color: var(--hover-bg-color);\n",
              "    box-shadow: 0 1px 2px rgba(60, 64, 67, 0.3), 0 1px 3px 1px rgba(60, 64, 67, 0.15);\n",
              "    fill: var(--button-hover-fill-color);\n",
              "  }\n",
              "\n",
              "  .colab-df-quickchart-complete:disabled,\n",
              "  .colab-df-quickchart-complete:disabled:hover {\n",
              "    background-color: var(--disabled-bg-color);\n",
              "    fill: var(--disabled-fill-color);\n",
              "    box-shadow: none;\n",
              "  }\n",
              "\n",
              "  .colab-df-spinner {\n",
              "    border: 2px solid var(--fill-color);\n",
              "    border-color: transparent;\n",
              "    border-bottom-color: var(--fill-color);\n",
              "    animation:\n",
              "      spin 1s steps(1) infinite;\n",
              "  }\n",
              "\n",
              "  @keyframes spin {\n",
              "    0% {\n",
              "      border-color: transparent;\n",
              "      border-bottom-color: var(--fill-color);\n",
              "      border-left-color: var(--fill-color);\n",
              "    }\n",
              "    20% {\n",
              "      border-color: transparent;\n",
              "      border-left-color: var(--fill-color);\n",
              "      border-top-color: var(--fill-color);\n",
              "    }\n",
              "    30% {\n",
              "      border-color: transparent;\n",
              "      border-left-color: var(--fill-color);\n",
              "      border-top-color: var(--fill-color);\n",
              "      border-right-color: var(--fill-color);\n",
              "    }\n",
              "    40% {\n",
              "      border-color: transparent;\n",
              "      border-right-color: var(--fill-color);\n",
              "      border-top-color: var(--fill-color);\n",
              "    }\n",
              "    60% {\n",
              "      border-color: transparent;\n",
              "      border-right-color: var(--fill-color);\n",
              "    }\n",
              "    80% {\n",
              "      border-color: transparent;\n",
              "      border-right-color: var(--fill-color);\n",
              "      border-bottom-color: var(--fill-color);\n",
              "    }\n",
              "    90% {\n",
              "      border-color: transparent;\n",
              "      border-bottom-color: var(--fill-color);\n",
              "    }\n",
              "  }\n",
              "</style>\n",
              "\n",
              "  <script>\n",
              "    async function quickchart(key) {\n",
              "      const quickchartButtonEl =\n",
              "        document.querySelector('#' + key + ' button');\n",
              "      quickchartButtonEl.disabled = true;  // To prevent multiple clicks.\n",
              "      quickchartButtonEl.classList.add('colab-df-spinner');\n",
              "      try {\n",
              "        const charts = await google.colab.kernel.invokeFunction(\n",
              "            'suggestCharts', [key], {});\n",
              "      } catch (error) {\n",
              "        console.error('Error during call to suggestCharts:', error);\n",
              "      }\n",
              "      quickchartButtonEl.classList.remove('colab-df-spinner');\n",
              "      quickchartButtonEl.classList.add('colab-df-quickchart-complete');\n",
              "    }\n",
              "    (() => {\n",
              "      let quickchartButtonEl =\n",
              "        document.querySelector('#df-4cb93f39-544e-4062-a826-c7e1f6c224df button');\n",
              "      quickchartButtonEl.style.display =\n",
              "        google.colab.kernel.accessAllowed ? 'block' : 'none';\n",
              "    })();\n",
              "  </script>\n",
              "</div>\n",
              "\n",
              "    </div>\n",
              "  </div>\n"
            ],
            "application/vnd.google.colaboratory.intrinsic+json": {
              "type": "dataframe",
              "variable_name": "df"
            }
          },
          "metadata": {},
          "execution_count": 1
        }
      ]
    },
    {
      "cell_type": "markdown",
      "source": [
        "##**Step 2: Inspect the Dataset Structure**\n",
        "\n",
        "Before performing any analysis, check basic details like the number of rows, columns, and data types."
      ],
      "metadata": {
        "id": "jL5f_F_Dp5bs"
      }
    },
    {
      "cell_type": "code",
      "source": [
        "# Print structure and data types\n",
        "print(\"Dataset shape:\", df.shape)\n",
        "print(\"\\nDataset info:\")\n",
        "print(df.info())\n",
        "\n",
        "# Show summary statistics\n",
        "print(\"\\nSummary statistics:\")\n",
        "print(df.describe())"
      ],
      "metadata": {
        "colab": {
          "base_uri": "https://localhost:8080/"
        },
        "id": "o318iEpipiO3",
        "outputId": "fe33882f-391c-4067-8835-88de2e2a191f"
      },
      "execution_count": 2,
      "outputs": [
        {
          "output_type": "stream",
          "name": "stdout",
          "text": [
            "Dataset shape: (124494, 12)\n",
            "\n",
            "Dataset info:\n",
            "<class 'pandas.core.frame.DataFrame'>\n",
            "RangeIndex: 124494 entries, 0 to 124493\n",
            "Data columns (total 12 columns):\n",
            " #   Column   Non-Null Count   Dtype \n",
            "---  ------   --------------   ----- \n",
            " 0   date     124494 non-null  object\n",
            " 1   device   124494 non-null  object\n",
            " 2   failure  124494 non-null  int64 \n",
            " 3   metric1  124494 non-null  int64 \n",
            " 4   metric2  124494 non-null  int64 \n",
            " 5   metric3  124494 non-null  int64 \n",
            " 6   metric4  124494 non-null  int64 \n",
            " 7   metric5  124494 non-null  int64 \n",
            " 8   metric6  124494 non-null  int64 \n",
            " 9   metric7  124494 non-null  int64 \n",
            " 10  metric8  124494 non-null  int64 \n",
            " 11  metric9  124494 non-null  int64 \n",
            "dtypes: int64(10), object(2)\n",
            "memory usage: 11.4+ MB\n",
            "None\n",
            "\n",
            "Summary statistics:\n",
            "             failure       metric1        metric2        metric3  \\\n",
            "count  124494.000000  1.244940e+05  124494.000000  124494.000000   \n",
            "mean        0.000851  1.223881e+08     159.492706       9.940897   \n",
            "std         0.029167  7.045933e+07    2179.677781     185.748131   \n",
            "min         0.000000  0.000000e+00       0.000000       0.000000   \n",
            "25%         0.000000  6.128476e+07       0.000000       0.000000   \n",
            "50%         0.000000  1.227974e+08       0.000000       0.000000   \n",
            "75%         0.000000  1.833096e+08       0.000000       0.000000   \n",
            "max         1.000000  2.441405e+08   64968.000000   24929.000000   \n",
            "\n",
            "             metric4        metric5        metric6        metric7  \\\n",
            "count  124494.000000  124494.000000  124494.000000  124494.000000   \n",
            "mean        1.741120      14.222669  260172.657726       0.292528   \n",
            "std        22.908507      15.943028   99151.078547       7.436924   \n",
            "min         0.000000       1.000000       8.000000       0.000000   \n",
            "25%         0.000000       8.000000  221452.000000       0.000000   \n",
            "50%         0.000000      10.000000  249799.500000       0.000000   \n",
            "75%         0.000000      12.000000  310266.000000       0.000000   \n",
            "max      1666.000000      98.000000  689161.000000     832.000000   \n",
            "\n",
            "             metric8        metric9  \n",
            "count  124494.000000  124494.000000  \n",
            "mean        0.292528      13.013848  \n",
            "std         7.436924     275.661220  \n",
            "min         0.000000       0.000000  \n",
            "25%         0.000000       0.000000  \n",
            "50%         0.000000       0.000000  \n",
            "75%         0.000000       0.000000  \n",
            "max       832.000000   70000.000000  \n"
          ]
        }
      ]
    },
    {
      "cell_type": "markdown",
      "source": [
        "## **Step 3: Convert the Date Column**"
      ],
      "metadata": {
        "id": "lO_44YQ3NGib"
      }
    },
    {
      "cell_type": "code",
      "source": [
        "# Convert 'date' column to datetime format (with error handling)\n",
        "df['date'] = pd.to_datetime(df['date'], errors='coerce')\n",
        "\n",
        "# Confirm the conversion\n",
        "print(df['date'].head())"
      ],
      "metadata": {
        "colab": {
          "base_uri": "https://localhost:8080/"
        },
        "id": "vYxx1HhpNIZ5",
        "outputId": "1ceff12f-eb8a-497a-e4dc-fd45a742354e"
      },
      "execution_count": 3,
      "outputs": [
        {
          "output_type": "stream",
          "name": "stdout",
          "text": [
            "0   2015-01-01\n",
            "1   2015-01-01\n",
            "2   2015-01-01\n",
            "3   2015-01-01\n",
            "4   2015-01-01\n",
            "Name: date, dtype: datetime64[ns]\n"
          ]
        }
      ]
    },
    {
      "cell_type": "markdown",
      "source": [
        "## **Step 4: Check for Missing Values**\n"
      ],
      "metadata": {
        "id": "FZtrGoi-qEra"
      }
    },
    {
      "cell_type": "code",
      "source": [
        "# Check for missing values in each column\n",
        "missing_counts = df.isnull().sum()\n",
        "\n",
        "# Print the result\n",
        "print(\"Missing values per column:\\n\", missing_counts)\n",
        "\n",
        "# Check if the entire dataset is clean\n",
        "if missing_counts.sum() == 0:\n",
        "    print(\"\\n The dataset is clean — no missing values found.\")\n",
        "else:\n",
        "    print(\"\\n Some columns contain missing values. Further handling is required.\")"
      ],
      "metadata": {
        "colab": {
          "base_uri": "https://localhost:8080/"
        },
        "id": "vzSXv-PVqJuf",
        "outputId": "6ee1e130-3c27-4c9c-e024-6b184d7a2e7e"
      },
      "execution_count": 4,
      "outputs": [
        {
          "output_type": "stream",
          "name": "stdout",
          "text": [
            "Missing values per column:\n",
            " date       0\n",
            "device     0\n",
            "failure    0\n",
            "metric1    0\n",
            "metric2    0\n",
            "metric3    0\n",
            "metric4    0\n",
            "metric5    0\n",
            "metric6    0\n",
            "metric7    0\n",
            "metric8    0\n",
            "metric9    0\n",
            "dtype: int64\n",
            "\n",
            " The dataset is clean — no missing values found.\n"
          ]
        }
      ]
    },
    {
      "cell_type": "markdown",
      "source": [
        "##**Step 5: Outlier Detection and Treatments**\n",
        "\n",
        "\n",
        "1.   Visualize outliers using boxplots.\n",
        "2.   Treat outliers using the IQR method (you’ll choose whether to remove or cap them).\n",
        "\n"
      ],
      "metadata": {
        "id": "8wK9wIc_udRj"
      }
    },
    {
      "cell_type": "code",
      "source": [
        "import matplotlib.pyplot as plt\n",
        "import seaborn as sns\n",
        "\n",
        "# Set plot size\n",
        "plt.figure(figsize=(12, 6))\n",
        "\n",
        "# Create a horizontal boxplot for all numerical features\n",
        "sns.boxplot(data=df.select_dtypes(include=['float64', 'int64']), orient='h')\n",
        "\n",
        "plt.title(\"Outlier Detection using Boxplot\")\n",
        "plt.xlabel(\"Value Range\")\n",
        "plt.ylabel(\"Features\")\n",
        "plt.show()"
      ],
      "metadata": {
        "colab": {
          "base_uri": "https://localhost:8080/",
          "height": 564
        },
        "id": "INSHWxWruYfS",
        "outputId": "2b4a9a5e-2042-42c1-dada-6ec95598b563"
      },
      "execution_count": 5,
      "outputs": [
        {
          "output_type": "display_data",
          "data": {
            "text/plain": [
              "<Figure size 1200x600 with 1 Axes>"
            ],
            "image/png": "[encoded data removed]"
          },
          "metadata": {}
        }
      ]
    },
    {
      "cell_type": "code",
      "source": [
        "# Function to cap outliers using the IQR method\n",
        "def cap_outliers(df, column):\n",
        "    Q1 = df[column].quantile(0.25)\n",
        "    Q3 = df[column].quantile(0.75)\n",
        "    IQR = Q3 - Q1\n",
        "    lower = Q1 - 1.5 * IQR\n",
        "    upper = Q3 + 1.5 * IQR\n",
        "    df[column] = df[column].clip(lower, upper)\n",
        "\n",
        "# Apply to all numeric features except 'failure'\n",
        "numeric_cols = df.select_dtypes(include=['float64', 'int64']).columns\n",
        "numeric_cols = [col for col in numeric_cols if col != 'failure']\n",
        "\n",
        "for col in numeric_cols:\n",
        "    cap_outliers(df, col)\n",
        "\n",
        "print(\"Outliers capped for metric1–metric9 using the IQR method.\")"
      ],
      "metadata": {
        "colab": {
          "base_uri": "https://localhost:8080/"
        },
        "id": "Jj_zDmxNPoAp",
        "outputId": "6a033272-d0ae-48af-85de-f18c55dd1b2f"
      },
      "execution_count": 6,
      "outputs": [
        {
          "output_type": "stream",
          "name": "stdout",
          "text": [
            "Outliers capped for metric1–metric9 using the IQR method.\n"
          ]
        }
      ]
    },
    {
      "cell_type": "markdown",
      "source": [
        "## **Step 6: Feature Engineering**\n",
        "\n",
        "In this step, we’ll create new informative features to help models detect patterns better:\n",
        "\n",
        "\n",
        "1.   Extract Features from the date Column (year, month, day, and weekday)\n",
        "2.   Split the device Column into sector and equipment\n",
        "\n"
      ],
      "metadata": {
        "id": "EorWSe3PQp7z"
      }
    },
    {
      "cell_type": "code",
      "source": [
        "# Extract time-based features from 'date'\n",
        "df['year'] = df['date'].dt.year\n",
        "df['month'] = df['date'].dt.month\n",
        "df['day'] = df['date'].dt.day\n",
        "df['weekday'] = df['date'].dt.weekday  # 0 = Monday, 6 = Sunday\n",
        "\n",
        "print(\"Extracted 'year', 'month', 'day', and 'weekday' from 'date'.\")"
      ],
      "metadata": {
        "colab": {
          "base_uri": "https://localhost:8080/"
        },
        "id": "0RfXDk0QQvRr",
        "outputId": "cfb00a0a-9434-4234-bd66-d6612d6ea637"
      },
      "execution_count": 7,
      "outputs": [
        {
          "output_type": "stream",
          "name": "stdout",
          "text": [
            "Extracted 'year', 'month', 'day', and 'weekday' from 'date'.\n"
          ]
        }
      ]
    },
    {
      "cell_type": "code",
      "source": [
        "# Split 'device' column into 'sector' and 'equipment'\n",
        "df['sector'] = df['device'].str[:4]       # First 4 characters\n",
        "df['equipment'] = df['device'].str[4:]    # Remaining characters\n",
        "\n",
        "print(\"Extracted 'sector' and 'equipment' from 'device' column.\")"
      ],
      "metadata": {
        "colab": {
          "base_uri": "https://localhost:8080/"
        },
        "id": "MHGq9IZVQ1aV",
        "outputId": "e42ff3eb-ad81-4dac-f2e0-6bcc905bf7c7"
      },
      "execution_count": 8,
      "outputs": [
        {
          "output_type": "stream",
          "name": "stdout",
          "text": [
            "Extracted 'sector' and 'equipment' from 'device' column.\n"
          ]
        }
      ]
    },
    {
      "cell_type": "markdown",
      "source": [
        "\n",
        "## **Step 7: Encode Categorical Features**\n",
        "Machine learning models need all features in numeric form, so we’ll encode:\n",
        "\n",
        "\n",
        "1.   Sector and equipment (from the device column)\n",
        "2.   Optionally weekday or month if using tree-based models that don't need scaling"
      ],
      "metadata": {
        "id": "Le3jz1x8Rlu6"
      }
    },
    {
      "cell_type": "code",
      "source": [
        "from sklearn.preprocessing import LabelEncoder\n",
        "\n",
        "# Initialize encoder\n",
        "le = LabelEncoder()\n",
        "\n",
        "# Encode 'sector' and 'equipment'\n",
        "df['sector_encoded'] = le.fit_transform(df['sector'])\n",
        "df['equipment_encoded'] = le.fit_transform(df['equipment'])\n",
        "\n",
        "print(\"Applied label encoding to 'sector' and 'equipment'.\")"
      ],
      "metadata": {
        "colab": {
          "base_uri": "https://localhost:8080/"
        },
        "id": "_WwaaQCERpVp",
        "outputId": "6397ae2b-973b-4e0c-a09e-9331dfc3f9f7"
      },
      "execution_count": 9,
      "outputs": [
        {
          "output_type": "stream",
          "name": "stdout",
          "text": [
            "Applied label encoding to 'sector' and 'equipment'.\n"
          ]
        }
      ]
    },
    {
      "cell_type": "code",
      "source": [
        "df.drop(['sector', 'equipment', 'device'], axis=1, inplace=True)"
      ],
      "metadata": {
        "id": "eKADdeUIRubx"
      },
      "execution_count": 10,
      "outputs": []
    },
    {
      "cell_type": "markdown",
      "source": [
        "## **Step 8: Scale Numerical Features**\n",
        "\n",
        "We’ll scale the data using MinMaxScaler to bring all features into the same range."
      ],
      "metadata": {
        "id": "vV5JjEfdS1NV"
      }
    },
    {
      "cell_type": "code",
      "source": [
        "from sklearn.preprocessing import MinMaxScaler\n",
        "\n",
        "# Initialize the scaler\n",
        "scaler = MinMaxScaler()\n",
        "\n",
        "# Select numeric columns (excluding target column 'failure')\n",
        "num_cols = df.select_dtypes(include=['float64', 'int64']).columns\n",
        "num_cols = [col for col in num_cols if col != 'failure']\n",
        "\n",
        "# Apply MinMaxScaler\n",
        "df[num_cols] = scaler.fit_transform(df[num_cols])\n",
        "\n",
        "print(\"Min-Max scaling applied to numerical features.\")"
      ],
      "metadata": {
        "colab": {
          "base_uri": "https://localhost:8080/"
        },
        "id": "AtCb4M6eS91Q",
        "outputId": "e63d6941-f3a5-4bf1-c3be-0290930411a1"
      },
      "execution_count": 12,
      "outputs": [
        {
          "output_type": "stream",
          "name": "stdout",
          "text": [
            "Min-Max scaling applied to numerical features.\n"
          ]
        }
      ]
    },
    {
      "cell_type": "markdown",
      "source": [
        "## **Step 9: Save the Cleaned Dataset**\n",
        "\n",
        "After cleaning, save the dataset for further analysis."
      ],
      "metadata": {
        "id": "z8v0xHgkrBhe"
      }
    },
    {
      "cell_type": "code",
      "source": [
        "# Preview the first 10 rows of the cleaned dataset\n",
        "print(df.head(10))\n",
        "\n",
        "print(\"Final dataset shape:\", df.shape)\n",
        "print(\"\\nFinal column names:\")\n",
        "print(df.columns.tolist())"
      ],
      "metadata": {
        "id": "VTBCF2W9rH6c",
        "colab": {
          "base_uri": "https://localhost:8080/"
        },
        "outputId": "59fd5537-3b61-42dc-bce4-ca06d0d93d8e"
      },
      "execution_count": 13,
      "outputs": [
        {
          "output_type": "stream",
          "name": "stdout",
          "text": [
            "        date  failure   metric1  metric2  metric3  metric4  metric5   metric6  \\\n",
            "0 2015-01-01        0  0.883224      0.0      0.0      0.0   0.2500  0.898527   \n",
            "1 2015-01-01        0  0.251374      0.0      0.0      0.0   0.2500  0.886524   \n",
            "2 2015-01-01        0  0.709821      0.0      0.0      0.0   0.6250  0.419875   \n",
            "3 2015-01-01        0  0.326427      0.0      0.0      0.0   0.2500  0.906262   \n",
            "4 2015-01-01        0  0.556935      0.0      0.0      0.0   0.8125  0.633183   \n",
            "5 2015-01-01        0  0.281959      0.0      0.0      0.0   0.2500  0.915689   \n",
            "6 2015-01-01        0  0.932748      0.0      0.0      0.0   0.3750  0.884697   \n",
            "7 2015-01-01        0  0.579599      0.0      0.0      0.0   1.0000  1.000000   \n",
            "8 2015-01-01        0  0.033660      0.0      0.0      0.0   0.7500  0.629512   \n",
            "9 2015-01-01        0  0.476939      0.0      0.0      0.0   0.4375  0.899841   \n",
            "\n",
            "   metric7  metric8  metric9  year  month  day  weekday  sector_encoded  \\\n",
            "0      0.0      0.0      0.0  2015      1    1        3             0.0   \n",
            "1      0.0      0.0      0.0  2015      1    1        3             0.0   \n",
            "2      0.0      0.0      0.0  2015      1    1        3             0.0   \n",
            "3      0.0      0.0      0.0  2015      1    1        3             0.0   \n",
            "4      0.0      0.0      0.0  2015      1    1        3             0.0   \n",
            "5      0.0      0.0      0.0  2015      1    1        3             0.0   \n",
            "6      0.0      0.0      0.0  2015      1    1        3             0.0   \n",
            "7      0.0      0.0      0.0  2015      1    1        3             0.0   \n",
            "8      0.0      0.0      0.0  2015      1    1        3             0.0   \n",
            "9      0.0      0.0      0.0  2015      1    1        3             0.0   \n",
            "\n",
            "   equipment_encoded  \n",
            "0           0.029966  \n",
            "1           0.037671  \n",
            "2           0.052226  \n",
            "3           0.056507  \n",
            "4           0.063356  \n",
            "5           0.068493  \n",
            "6           0.071062  \n",
            "7           0.077911  \n",
            "8           0.079623  \n",
            "9           0.080479  \n",
            "Final dataset shape: (124494, 17)\n",
            "\n",
            "Final column names:\n",
            "['date', 'failure', 'metric1', 'metric2', 'metric3', 'metric4', 'metric5', 'metric6', 'metric7', 'metric8', 'metric9', 'year', 'month', 'day', 'weekday', 'sector_encoded', 'equipment_encoded']\n"
          ]
        }
      ]
    },
    {
      "cell_type": "code",
      "source": [
        "# Save the cleaned dataset\n",
        "df.to_csv(\"cleaned_dataset_for_modeling.csv\", index=False)\n",
        "print(\"Cleaned dataset saved as 'cleaned_dataset_for_modeling.csv'\")"
      ],
      "metadata": {
        "colab": {
          "base_uri": "https://localhost:8080/"
        },
        "id": "rxkMKgVQTQgN",
        "outputId": "e42f2c2b-ad7f-4088-c59d-367d3adfbfe9"
      },
      "execution_count": 14,
      "outputs": [
        {
          "output_type": "stream",
          "name": "stdout",
          "text": [
            "Cleaned dataset saved as 'cleaned_dataset_for_modeling.csv'\n"
          ]
        }
      ]
    }
  ]
}